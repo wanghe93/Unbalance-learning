{
 "cells": [
  {
   "cell_type": "code",
   "execution_count": 70,
   "metadata": {},
   "outputs": [],
   "source": [
    "import matplotlib.pyplot as plt\n",
    "from sklearn.pipeline import Pipeline\n",
    "from sklearn.model_selection import GridSearchCV\n",
    "from sklearn.feature_selection import SelectFromModel\n",
    "from sklearn.linear_model import LogisticRegression\n",
    "import pandas as pd\n",
    "import numpy as np\n",
    "import os\n",
    "import re\n",
    "from sklearn.externals import joblib\n",
    "from sklearn.model_selection import train_test_split"
   ]
  },
  {
   "cell_type": "code",
   "execution_count": 71,
   "metadata": {},
   "outputs": [],
   "source": [
    "Data = np.loadtxt('Data.txt')"
   ]
  },
  {
   "cell_type": "code",
   "execution_count": 72,
   "metadata": {},
   "outputs": [
    {
     "data": {
      "text/plain": [
       "(36308, 12)"
      ]
     },
     "execution_count": 72,
     "metadata": {},
     "output_type": "execute_result"
    }
   ],
   "source": [
    "X = Data[:,:-1]\n",
    "X.shape"
   ]
  },
  {
   "cell_type": "code",
   "execution_count": 73,
   "metadata": {},
   "outputs": [
    {
     "data": {
      "text/plain": [
       "(36308,)"
      ]
     },
     "execution_count": 73,
     "metadata": {},
     "output_type": "execute_result"
    }
   ],
   "source": [
    "Y = Data[:,-1]\n",
    "Y.shape"
   ]
  },
  {
   "cell_type": "code",
   "execution_count": 74,
   "metadata": {},
   "outputs": [],
   "source": [
    "X_train, X_test, Y_train, Y_test = train_test_split(X, Y, test_size=0.3, random_state=9, stratify=Y)"
   ]
  },
  {
   "cell_type": "code",
   "execution_count": 75,
   "metadata": {},
   "outputs": [
    {
     "data": {
      "image/png": "[encoded data removed]",
      "text/plain": [
       "<matplotlib.figure.Figure at 0xc8d42e8>"
      ]
     },
     "metadata": {},
     "output_type": "display_data"
    }
   ],
   "source": [
    "train_1 = (Y_train == 1).sum()\n",
    "train_0 = (Y_train == 0).sum()\n",
    "test_1 = (Y_test == 1).sum()\n",
    "test_0 = (Y_test == 0).sum()\n",
    "c = pd.DataFrame({'0':[train_0,test_0],'1':[train_1,test_1]},index = ['train', 'test'])\n",
    "c.plot(kind = 'bar')\n",
    "plt.show()"
   ]
  },
  {
   "cell_type": "code",
   "execution_count": 76,
   "metadata": {},
   "outputs": [],
   "source": [
    "import copy\n",
    "from sklearn import metrics\n",
    "from sklearn.metrics import accuracy_score\n",
    "from sklearn.metrics import roc_auc_score\n",
    "\n",
    "class Unbalance_estimator(object):\n",
    "    \n",
    "    def __init__(self, base_estimator, scoring):\n",
    "        self.base_estimator = base_estimator\n",
    "        self.estimators = []\n",
    "        self.scoring = scoring\n",
    "        \n",
    "    def fit(self,X,y):\n",
    "        Data = self.split(X,y)\n",
    "        self.estimators = []\n",
    "        for i in range(len(Data)):\n",
    "            clf = copy.deepcopy(self.base_estimator)\n",
    "            self.estimators.append(clf)\n",
    "        for i,data in enumerate(Data):\n",
    "            m = data.shape[0]\n",
    "            permutation = list(np.random.permutation(m))\n",
    "            data = data[permutation,:]\n",
    "            self.estimators[i].fit(data[:,:-1], data[:,-1])\n",
    "        return self\n",
    "    \n",
    "    def split(self,x_train, y_train):\n",
    "        x_1 = x_train[y_train == 1]\n",
    "        y_1 = y_train[y_train == 1]\n",
    "        x_0 = x_train[y_train == 0]\n",
    "        y_0 = y_train[y_train == 0]\n",
    "        num_1 = x_1.shape[0]\n",
    "        num_0 = x_0.shape[0]\n",
    "        x_y_1 = np.concatenate((x_1,y_1.reshape(-1,1)),axis = 1)\n",
    "        x_y_0 = np.concatenate((x_0,y_0.reshape(-1,1)),axis = 1)\n",
    "        Data = []\n",
    "        if num_1 > num_0:\n",
    "            for i in range(10):\n",
    "                c = np.random.rand(num_1)\n",
    "                Data.append(np.concatenate((x_y_1[c < num_0/num_1], x_y_0), axis = 0))\n",
    "        else:\n",
    "            for i in range(10):\n",
    "                c = np.random.rand(num_0)\n",
    "                Data.append(np.concatenate((x_y_0[c < num_1/num_0], x_y_1), axis = 0)) \n",
    "        return Data\n",
    "\n",
    "    def predict_proba(self, X):\n",
    "        return np.stack([clf.predict_proba(X) for i,clf in enumerate(self.estimators)],axis = 2).mean(axis = 2)\n",
    "    \n",
    "    def predict(self, X):\n",
    "        return self.predict_proba(X).argmax(axis = 1)\n",
    "    \n",
    "    def score(self, X, y):\n",
    "        if self.scoring == 'accuracy':\n",
    "            return accuracy_score(y, self.predict(X))\n",
    "        if self.scoring == 'f1':\n",
    "            return metrics.f1_score(y, self.predict(X)) \n",
    "        if self.scoring == 'auc':\n",
    "            return roc_auc_score(y, self.predict_proba(X)[:,1])\n",
    "    "
   ]
  },
  {
   "cell_type": "code",
   "execution_count": 77,
   "metadata": {},
   "outputs": [],
   "source": [
    "from sklearn.model_selection import KFold\n",
    "def my_cross_val_score(clf, x, y, cv = 5):\n",
    "    kf = KFold(n_splits=cv)\n",
    "    result = []\n",
    "    for train_index, test_index in kf.split(x):\n",
    "        x_train = x[train_index]\n",
    "        y_train = y[train_index]\n",
    "        x_test = x[test_index]\n",
    "        y_test = y[test_index]\n",
    "        result.append(clf.fit(x_train,y_train).score(x_test,y_test))\n",
    "    return np.array(result)"
   ]
  },
  {
   "cell_type": "code",
   "execution_count": 78,
   "metadata": {},
   "outputs": [
    {
     "name": "stderr",
     "output_type": "stream",
     "text": [
      "D:\\Anaconda3\\lib\\site-packages\\sklearn\\linear_model\\sag.py:326: ConvergenceWarning: The max_iter was reached which means the coef_ did not converge\n",
      "  \"the coef_ did not converge\", ConvergenceWarning)\n"
     ]
    },
    {
     "data": {
      "text/plain": [
       "<__main__.Unbalance_estimator at 0xc538390>"
      ]
     },
     "execution_count": 78,
     "metadata": {},
     "output_type": "execute_result"
    }
   ],
   "source": [
    "best_score = -1\n",
    "best_C = -1\n",
    "for C in [1, 10, 100, 1000]:\n",
    "    clf = Unbalance_estimator(LogisticRegression(C = C, tol = 1e-5, solver= 'saga', max_iter = 3000), scoring = 'auc')\n",
    "    score = my_cross_val_score(clf, X_train, Y_train, cv = 5).mean()\n",
    "    if score > best_score:\n",
    "        best_score = score\n",
    "        best_C = C\n",
    "clf = Unbalance_estimator(LogisticRegression(C = best_C, tol = 1e-5, solver= 'saga'), scoring = 'auc')\n",
    "clf.fit(X_train, Y_train)"
   ]
  },
  {
   "cell_type": "code",
   "execution_count": 79,
   "metadata": {},
   "outputs": [
    {
     "data": {
      "text/plain": [
       "0.7985020474921602"
      ]
     },
     "execution_count": 79,
     "metadata": {},
     "output_type": "execute_result"
    }
   ],
   "source": [
    "best_score"
   ]
  },
  {
   "cell_type": "code",
   "execution_count": 80,
   "metadata": {},
   "outputs": [
    {
     "data": {
      "text/plain": [
       "100"
      ]
     },
     "execution_count": 80,
     "metadata": {},
     "output_type": "execute_result"
    }
   ],
   "source": [
    "best_C"
   ]
  },
  {
   "cell_type": "code",
   "execution_count": 81,
   "metadata": {},
   "outputs": [
    {
     "data": {
      "text/plain": [
       "0.7975909695121519"
      ]
     },
     "execution_count": 81,
     "metadata": {},
     "output_type": "execute_result"
    }
   ],
   "source": [
    "clf.score(X_test,Y_test)"
   ]
  },
  {
   "cell_type": "code",
   "execution_count": 82,
   "metadata": {},
   "outputs": [
    {
     "data": {
      "text/plain": [
       "['LR1.pkl']"
      ]
     },
     "execution_count": 82,
     "metadata": {},
     "output_type": "execute_result"
    }
   ],
   "source": [
    "joblib.dump(clf, 'LR1.pkl') "
   ]
  },
  {
   "cell_type": "code",
   "execution_count": null,
   "metadata": {},
   "outputs": [],
   "source": []
  },
  {
   "cell_type": "code",
   "execution_count": null,
   "metadata": {},
   "outputs": [],
   "source": []
  },
  {
   "cell_type": "code",
   "execution_count": 83,
   "metadata": {},
   "outputs": [],
   "source": [
    "clf = joblib.load( 'LR1.pkl')"
   ]
  },
  {
   "cell_type": "code",
   "execution_count": 84,
   "metadata": {},
   "outputs": [
    {
     "data": {
      "text/plain": [
       "array([0., 1.])"
      ]
     },
     "execution_count": 84,
     "metadata": {},
     "output_type": "execute_result"
    }
   ],
   "source": [
    "clf.estimators[0].classes_"
   ]
  },
  {
   "cell_type": "code",
   "execution_count": 85,
   "metadata": {},
   "outputs": [],
   "source": [
    "from sklearn.metrics import confusion_matrix"
   ]
  },
  {
   "cell_type": "code",
   "execution_count": 86,
   "metadata": {},
   "outputs": [
    {
     "data": {
      "text/plain": [
       "array([[16637,  5692],\n",
       "       [ 1007,  2079]], dtype=int64)"
      ]
     },
     "execution_count": 86,
     "metadata": {},
     "output_type": "execute_result"
    }
   ],
   "source": [
    "confusion_matrix(Y_train, clf.predict(X_train))"
   ]
  },
  {
   "cell_type": "code",
   "execution_count": 87,
   "metadata": {},
   "outputs": [
    {
     "data": {
      "text/plain": [
       "array([[7088, 2482],\n",
       "       [ 423,  900]], dtype=int64)"
      ]
     },
     "execution_count": 87,
     "metadata": {},
     "output_type": "execute_result"
    }
   ],
   "source": [
    "confusion_matrix(Y_test, clf.predict(X_test))"
   ]
  },
  {
   "cell_type": "code",
   "execution_count": null,
   "metadata": {},
   "outputs": [],
   "source": []
  },
  {
   "cell_type": "code",
   "execution_count": 88,
   "metadata": {},
   "outputs": [],
   "source": [
    "from sklearn.metrics import classification_report"
   ]
  },
  {
   "cell_type": "code",
   "execution_count": 89,
   "metadata": {},
   "outputs": [
    {
     "name": "stdout",
     "output_type": "stream",
     "text": [
      "             precision    recall  f1-score   support\n",
      "\n",
      "        0.0       0.94      0.75      0.83     22329\n",
      "        1.0       0.27      0.67      0.38      3086\n",
      "\n",
      "avg / total       0.86      0.74      0.78     25415\n",
      "\n"
     ]
    }
   ],
   "source": [
    "print(classification_report(Y_train, clf.predict(X_train)))"
   ]
  },
  {
   "cell_type": "code",
   "execution_count": 90,
   "metadata": {},
   "outputs": [
    {
     "name": "stdout",
     "output_type": "stream",
     "text": [
      "             precision    recall  f1-score   support\n",
      "\n",
      "        0.0       0.94      0.74      0.83      9570\n",
      "        1.0       0.27      0.68      0.38      1323\n",
      "\n",
      "avg / total       0.86      0.73      0.78     10893\n",
      "\n"
     ]
    }
   ],
   "source": [
    "print(classification_report(Y_test, clf.predict(X_test)))"
   ]
  },
  {
   "cell_type": "code",
   "execution_count": null,
   "metadata": {},
   "outputs": [],
   "source": []
  },
  {
   "cell_type": "code",
   "execution_count": 91,
   "metadata": {},
   "outputs": [],
   "source": [
    "from sklearn.metrics import roc_auc_score"
   ]
  },
  {
   "cell_type": "code",
   "execution_count": 92,
   "metadata": {},
   "outputs": [
    {
     "data": {
      "text/plain": [
       "0.799643975280759"
      ]
     },
     "execution_count": 92,
     "metadata": {},
     "output_type": "execute_result"
    }
   ],
   "source": [
    "roc_auc_score(Y_train, clf.predict_proba(X_train)[:,1],average = 'micro')"
   ]
  },
  {
   "cell_type": "code",
   "execution_count": 93,
   "metadata": {},
   "outputs": [
    {
     "data": {
      "text/plain": [
       "0.7975909695121519"
      ]
     },
     "execution_count": 93,
     "metadata": {},
     "output_type": "execute_result"
    }
   ],
   "source": [
    "roc_auc_score(Y_test, clf.predict_proba(X_test)[:,1],average = 'micro')"
   ]
  },
  {
   "cell_type": "code",
   "execution_count": null,
   "metadata": {},
   "outputs": [],
   "source": []
  }
 ],
 "metadata": {
  "kernelspec": {
   "display_name": "Python 3",
   "language": "python",
   "name": "python3"
  },
  "language_info": {
   "codemirror_mode": {
    "name": "ipython",
    "version": 3
   },
   "file_extension": ".py",
   "mimetype": "text/x-python",
   "name": "python",
   "nbconvert_exporter": "python",
   "pygments_lexer": "ipython3",
   "version": "3.6.4"
  }
 },
 "nbformat": 4,
 "nbformat_minor": 2
}
